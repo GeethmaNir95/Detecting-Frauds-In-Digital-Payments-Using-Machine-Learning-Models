{
 "cells": [
  {
   "cell_type": "markdown",
   "id": "b99ea045",
   "metadata": {},
   "source": [
    "# Oversampling Method"
   ]
  },
  {
   "cell_type": "code",
   "execution_count": 23,
   "id": "0ee5f3da",
   "metadata": {},
   "outputs": [],
   "source": [
    "import pandas as pd\n",
    "import numpy as np\n",
    "import seaborn as sns\n",
    "import matplotlib.pyplot as plt"
   ]
  },
  {
   "cell_type": "code",
   "execution_count": 24,
   "id": "3ce64941",
   "metadata": {},
   "outputs": [],
   "source": [
    "df = pd.read_csv('creditcard.csv')"
   ]
  },
  {
   "cell_type": "code",
   "execution_count": 25,
   "id": "928aead4",
   "metadata": {},
   "outputs": [],
   "source": [
    "df = df.drop_duplicates()"
   ]
  },
  {
   "cell_type": "code",
   "execution_count": 26,
   "id": "70cd9cce",
   "metadata": {},
   "outputs": [
    {
     "name": "stdout",
     "output_type": "stream",
     "text": [
      "0\n"
     ]
    }
   ],
   "source": [
    "print(df.duplicated().sum())"
   ]
  },
  {
   "cell_type": "code",
   "execution_count": 27,
   "id": "24eea720",
   "metadata": {},
   "outputs": [],
   "source": [
    "df.drop('Time', axis=1, inplace=True)"
   ]
  },
  {
   "cell_type": "code",
   "execution_count": 28,
   "id": "6c419710",
   "metadata": {},
   "outputs": [
    {
     "name": "stdout",
     "output_type": "stream",
     "text": [
      "0    283253\n",
      "1       473\n",
      "Name: Class, dtype: int64\n"
     ]
    }
   ],
   "source": [
    "print(df['Class'].value_counts())"
   ]
  },
  {
   "cell_type": "code",
   "execution_count": 29,
   "id": "400b572e",
   "metadata": {},
   "outputs": [
    {
     "data": {
      "text/plain": [
       "((283726, 29), (283726,))"
      ]
     },
     "execution_count": 29,
     "metadata": {},
     "output_type": "execute_result"
    }
   ],
   "source": [
    "X = df.drop('Class', axis=1)\n",
    "y = df['Class']\n",
    "X.shape,y.shape"
   ]
  },
  {
   "cell_type": "markdown",
   "id": "6b665786",
   "metadata": {},
   "source": [
    "# Splitting the dataset"
   ]
  },
  {
   "cell_type": "code",
   "execution_count": 30,
   "id": "5aa32914",
   "metadata": {},
   "outputs": [],
   "source": [
    "from sklearn.model_selection import train_test_split"
   ]
  },
  {
   "cell_type": "code",
   "execution_count": 31,
   "id": "93a81cb1",
   "metadata": {},
   "outputs": [],
   "source": [
    "X_train, X_test, y_train, y_test = train_test_split(X, y, test_size=0.2, random_state=42)"
   ]
  },
  {
   "cell_type": "code",
   "execution_count": 32,
   "id": "dcc33362",
   "metadata": {},
   "outputs": [
    {
     "data": {
      "text/plain": [
       "0    226597\n",
       "1       383\n",
       "Name: Class, dtype: int64"
      ]
     },
     "execution_count": 32,
     "metadata": {},
     "output_type": "execute_result"
    }
   ],
   "source": [
    "y_train.value_counts()"
   ]
  },
  {
   "cell_type": "code",
   "execution_count": 33,
   "id": "585e10f2",
   "metadata": {},
   "outputs": [
    {
     "data": {
      "text/plain": [
       "0    56656\n",
       "1       90\n",
       "Name: Class, dtype: int64"
      ]
     },
     "execution_count": 33,
     "metadata": {},
     "output_type": "execute_result"
    }
   ],
   "source": [
    "y_test.value_counts()"
   ]
  },
  {
   "cell_type": "code",
   "execution_count": 12,
   "id": "2be5a09e",
   "metadata": {},
   "outputs": [],
   "source": [
    "from sklearn.utils import resample\n",
    "\n",
    "#creating two dataframes for majority and minority class\n",
    "df_majority = df[df['Class']== 0]\n",
    "df_minority = df[df['Class'] == 1]\n",
    "\n",
    "#upsample minority class\n",
    "df_minority_oversampled = resample(df_minority, replace =True,n_samples =283253, random_state=42)\n",
    "\n",
    "#Combining majority class with the upsamples minority class\n",
    "df_oversampled =pd.concat([df_minority_oversampled, df_majority])"
   ]
  },
  {
   "cell_type": "code",
   "execution_count": 34,
   "id": "014c1dbc",
   "metadata": {},
   "outputs": [],
   "source": [
    "from sklearn.utils import resample\n",
    "\n",
    "#creating two dataframes for majority and minority class\n",
    "X_train_minority =X_train[y_train==1]\n",
    "y_train_minority =y_train[y_train==1]\n",
    "X_train_majority =X_train[y_train==0]\n",
    "y_train_majority =y_train[y_train==0]\n",
    "\n",
    "\n",
    "\n",
    "#oversampling the minority class to match the majority(non-fraud) class\n",
    "X_train_minority_oversampled = resample(X_train_minority, replace =True,n_samples =226597, random_state=42)\n",
    "y_train_minority_oversampled = resample(y_train_minority, replace =True,n_samples =226597, random_state=42)\n",
    "\n",
    "\n"
   ]
  },
  {
   "cell_type": "code",
   "execution_count": 35,
   "id": "4489e7fe",
   "metadata": {},
   "outputs": [],
   "source": [
    "X_train_oversampled =pd.concat([X_train_majority,X_train_minority_oversampled])\n",
    "y_train_oversampled =pd.concat([y_train_majority,y_train_minority_oversampled])"
   ]
  },
  {
   "cell_type": "markdown",
   "id": "5bc5e6c1",
   "metadata": {},
   "source": [
    "# Training the Random Forest Model\n"
   ]
  },
  {
   "cell_type": "code",
   "execution_count": 36,
   "id": "a648131e",
   "metadata": {},
   "outputs": [],
   "source": [
    "from sklearn.ensemble import RandomForestClassifier"
   ]
  },
  {
   "cell_type": "code",
   "execution_count": 37,
   "id": "dff6776d",
   "metadata": {},
   "outputs": [
    {
     "name": "stdout",
     "output_type": "stream",
     "text": [
      "Model fitting\n",
      "Model fitted successfully\n"
     ]
    }
   ],
   "source": [
    "print('Model fitting')\n",
    "\n",
    "#Initializing the model\n",
    "rf  = RandomForestClassifier()\n",
    "\n",
    "# Training the model\n",
    "rf.fit(X_train_oversampled, y_train_oversampled)\n",
    "print('Model fitted successfully')"
   ]
  },
  {
   "cell_type": "markdown",
   "id": "4eeceb86",
   "metadata": {},
   "source": [
    "# Model Evaluation"
   ]
  },
  {
   "cell_type": "code",
   "execution_count": 38,
   "id": "527ddb96",
   "metadata": {},
   "outputs": [],
   "source": [
    "from sklearn.metrics import classification_report, confusion_matrix, roc_auc_score"
   ]
  },
  {
   "cell_type": "code",
   "execution_count": 16,
   "id": "7786430b",
   "metadata": {},
   "outputs": [
    {
     "name": "stdout",
     "output_type": "stream",
     "text": [
      "              precision    recall  f1-score   support\n",
      "\n",
      "           0       1.00      1.00      1.00    226597\n",
      "           1       1.00      1.00      1.00    226597\n",
      "\n",
      "    accuracy                           1.00    453194\n",
      "   macro avg       1.00      1.00      1.00    453194\n",
      "weighted avg       1.00      1.00      1.00    453194\n",
      "\n"
     ]
    }
   ],
   "source": [
    "# Training prediction\n",
    "y_pred = rf.predict(X_train_oversampled)\n",
    "\n",
    "#Classification Matrix\n",
    "print(classification_report(y_train_oversampled, y_pred))"
   ]
  },
  {
   "cell_type": "code",
   "execution_count": 39,
   "id": "3ef57a73",
   "metadata": {},
   "outputs": [],
   "source": [
    "# Testing Prediction\n",
    "y_preds = rf.predict(X_test)"
   ]
  },
  {
   "cell_type": "code",
   "execution_count": 41,
   "id": "5b6f46a4",
   "metadata": {},
   "outputs": [
    {
     "name": "stdout",
     "output_type": "stream",
     "text": [
      "              precision    recall  f1-score   support\n",
      "\n",
      "           0       1.00      1.00      1.00     56656\n",
      "           1       0.96      0.74      0.84        90\n",
      "\n",
      "    accuracy                           1.00     56746\n",
      "   macro avg       0.98      0.87      0.92     56746\n",
      "weighted avg       1.00      1.00      1.00     56746\n",
      "\n"
     ]
    }
   ],
   "source": [
    "print(classification_report(y_test, y_preds))"
   ]
  },
  {
   "cell_type": "code",
   "execution_count": 18,
   "id": "cfac9185",
   "metadata": {},
   "outputs": [],
   "source": [
    "#Confusion Matrix\n",
    "cf_matrix = confusion_matrix(y_test, y_preds)"
   ]
  },
  {
   "cell_type": "code",
   "execution_count": 19,
   "id": "05c134c5",
   "metadata": {},
   "outputs": [
    {
     "data": {
      "text/plain": [
       "[Text(0.5, 14.722222222222216, 'Predicted Label'),\n",
       " Text(45.722222222222214, 0.5, 'Actual Label')]"
      ]
     },
     "execution_count": 19,
     "metadata": {},
     "output_type": "execute_result"
    },
    {
     "data": {
      "image/png": "[encoded data removed]",
      "text/plain": [
       "<Figure size 600x400 with 2 Axes>"
      ]
     },
     "metadata": {},
     "output_type": "display_data"
    }
   ],
   "source": [
    "fig, ax = plt.subplots(figsize=(6,4))\n",
    "sns.heatmap(cf_matrix,cmap='coolwarm',annot =True, fmt ='g')\n",
    "ax.set(xlabel =\"Predicted Label\",ylabel =\"Actual Label\")"
   ]
  },
  {
   "cell_type": "code",
   "execution_count": 20,
   "id": "5c9a0387",
   "metadata": {},
   "outputs": [],
   "source": [
    "y_proba = rf.predict_proba(X_test)[:, 1]"
   ]
  },
  {
   "cell_type": "code",
   "execution_count": 21,
   "id": "51d11e36",
   "metadata": {},
   "outputs": [],
   "source": [
    "roc_auc = roc_auc_score(y_test, y_proba)"
   ]
  },
  {
   "cell_type": "code",
   "execution_count": 22,
   "id": "2865dff2",
   "metadata": {},
   "outputs": [
    {
     "name": "stdout",
     "output_type": "stream",
     "text": [
      "0.9420896874705826\n"
     ]
    }
   ],
   "source": [
    "print(roc_auc)"
   ]
  },
  {
   "cell_type": "code",
   "execution_count": null,
   "id": "be3aeaf8",
   "metadata": {},
   "outputs": [],
   "source": []
  }
 ],
 "metadata": {
  "kernelspec": {
   "display_name": "Python [conda env:base] *",
   "language": "python",
   "name": "conda-base-py"
  },
  "language_info": {
   "codemirror_mode": {
    "name": "ipython",
    "version": 3
   },
   "file_extension": ".py",
   "mimetype": "text/x-python",
   "name": "python",
   "nbconvert_exporter": "python",
   "pygments_lexer": "ipython3",
   "version": "3.13.5"
  }
 },
 "nbformat": 4,
 "nbformat_minor": 5
}
